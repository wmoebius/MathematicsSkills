{
 "cells": [
  {
   "cell_type": "markdown",
   "id": "b371ca2f-5da8-460c-b1bd-69e7a08068fd",
   "metadata": {},
   "source": [
    "# Matrix manipulation in Python using module numpy"
   ]
  },
  {
   "cell_type": "markdown",
   "id": "143a825a-38c8-4df1-bd49-b9ca4a9803e9",
   "metadata": {},
   "source": [
    "## Setting everything up"
   ]
  },
  {
   "cell_type": "markdown",
   "id": "8b5a9a35-fabd-4cff-80f5-cfb625cab6f3",
   "metadata": {},
   "source": [
    "Import required module"
   ]
  },
  {
   "cell_type": "code",
   "execution_count": null,
   "id": "ced3d255",
   "metadata": {},
   "outputs": [],
   "source": [
    "import numpy as np"
   ]
  },
  {
   "cell_type": "markdown",
   "id": "228ebc42-c39d-4c48-aea5-eca1df168618",
   "metadata": {},
   "source": [
    "Let's define two matrices"
   ]
  },
  {
   "cell_type": "code",
   "execution_count": null,
   "id": "507c7bce",
   "metadata": {},
   "outputs": [],
   "source": [
    "A = np.array([[1, 9, 3], [2, 7, 6]])\n",
    "B = np.array([[2, 4, 2], [1, 3, 6]])"
   ]
  },
  {
   "cell_type": "markdown",
   "id": "0ef141e6-91d1-47fc-b8ca-39af2d8a938d",
   "metadata": {},
   "source": [
    "Let's print them in the usual format"
   ]
  },
  {
   "cell_type": "code",
   "execution_count": null,
   "id": "12c549e2-5bb2-4855-8312-c7f856eeaf4e",
   "metadata": {},
   "outputs": [],
   "source": [
    "print(A)\n",
    "print(B)"
   ]
  },
  {
   "cell_type": "markdown",
   "id": "37b8d39b-004a-44ac-ba4d-fb6077f8a24e",
   "metadata": {},
   "source": [
    "We can add or subtract them and multiply with a scalar. **Is this the behaviour you expect? Yes/no?**"
   ]
  },
  {
   "cell_type": "code",
   "execution_count": null,
   "id": "06c64c38-7994-4796-92fd-d73942cad3a5",
   "metadata": {},
   "outputs": [],
   "source": [
    "print(A - B)\n",
    "print(5 * B)"
   ]
  },
  {
   "cell_type": "markdown",
   "id": "aad1ddb6-6b56-45d0-bcc7-7625c1e3d8be",
   "metadata": {},
   "source": [
    "Our first attempt of multiplying them. **Is this what you expect? Yes/no? What do you think happens here?**"
   ]
  },
  {
   "cell_type": "code",
   "execution_count": null,
   "id": "a4bea612-3046-4150-8e2a-fe790061e1f3",
   "metadata": {},
   "outputs": [],
   "source": [
    "print(A * B)"
   ]
  },
  {
   "cell_type": "markdown",
   "id": "8943fd99-4d84-4585-b697-c7ec6ea39780",
   "metadata": {},
   "source": [
    "And now matrix multiplication as defined and used in PHY1025. We need another matrix **C** and then multiply **A** with **C**"
   ]
  },
  {
   "cell_type": "code",
   "execution_count": null,
   "id": "f1c9bc9e-c6ff-4378-8560-36fe8ab100ac",
   "metadata": {},
   "outputs": [],
   "source": [
    "C = np.array([[2, 4], [1, 5], [7, 2]])\n",
    "print(A)\n",
    "print(C)\n",
    "print(A @ C)"
   ]
  },
  {
   "cell_type": "markdown",
   "id": "8d79cfc2-9451-49aa-b337-c8160a501524",
   "metadata": {},
   "source": [
    "**Use what you've just learned to solve problem 11 OR problem 12 of PS1 (last week) using Python. Submit a screenshot as part of your homework.**"
   ]
  },
  {
   "cell_type": "code",
   "execution_count": null,
   "id": "3e049f1f-12dc-432f-adad-890759145d2a",
   "metadata": {},
   "outputs": [],
   "source": []
  },
  {
   "cell_type": "markdown",
   "id": "c05ffd67-ccbb-431d-ad88-5477ccd440a3",
   "metadata": {},
   "source": [
    "## Further reading for those interested"
   ]
  },
  {
   "cell_type": "markdown",
   "id": "c3d030a5-1873-4be6-b247-7026b563aeaf",
   "metadata": {},
   "source": [
    "https://mkang32.github.io/python/2020/08/30/numpy-matmul.html"
   ]
  }
 ],
 "metadata": {
  "kernelspec": {
   "display_name": "Python 3 (ipykernel)",
   "language": "python",
   "name": "python3"
  },
  "language_info": {
   "codemirror_mode": {
    "name": "ipython",
    "version": 3
   },
   "file_extension": ".py",
   "mimetype": "text/x-python",
   "name": "python",
   "nbconvert_exporter": "python",
   "pygments_lexer": "ipython3",
   "version": "3.10.4"
  }
 },
 "nbformat": 4,
 "nbformat_minor": 5
}
