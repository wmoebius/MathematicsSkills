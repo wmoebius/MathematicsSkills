{
 "cells": [
  {
   "cell_type": "markdown",
   "id": "b371ca2f-5da8-460c-b1bd-69e7a08068fd",
   "metadata": {},
   "source": [
    "# Matrix multiplication in Python using module numpy"
   ]
  },
  {
   "cell_type": "markdown",
   "id": "143a825a-38c8-4df1-bd49-b9ca4a9803e9",
   "metadata": {},
   "source": [
    "## Setting everything up"
   ]
  },
  {
   "cell_type": "markdown",
   "id": "8b5a9a35-fabd-4cff-80f5-cfb625cab6f3",
   "metadata": {},
   "source": [
    "Import required module"
   ]
  },
  {
   "cell_type": "code",
   "execution_count": null,
   "id": "ced3d255",
   "metadata": {},
   "outputs": [],
   "source": [
    "import numpy as np"
   ]
  },
  {
   "cell_type": "markdown",
   "id": "228ebc42-c39d-4c48-aea5-eca1df168618",
   "metadata": {},
   "source": [
    "Let's define our two matrices that are to be multiplied"
   ]
  },
  {
   "cell_type": "code",
   "execution_count": null,
   "id": "507c7bce",
   "metadata": {},
   "outputs": [],
   "source": [
    "A = np.array([[1, 9, 3], [2, 7, 6]])\n",
    "B = np.array([[-1, 2, -4, 5], [1, 2, -4, 6], [1, 2, 4, 7]])\n",
    "# print(A)\n",
    "# print(B)"
   ]
  },
  {
   "cell_type": "markdown",
   "id": "aad1ddb6-6b56-45d0-bcc7-7625c1e3d8be",
   "metadata": {},
   "source": [
    "Some auxiliary variables to make the code more readable (number of rows and columns)"
   ]
  },
  {
   "cell_type": "code",
   "execution_count": null,
   "id": "f1c9bc9e-c6ff-4378-8560-36fe8ab100ac",
   "metadata": {},
   "outputs": [],
   "source": [
    "numrowA = A.shape[0]\n",
    "numcolA = A.shape[1]\n",
    "numrowB = B.shape[0]\n",
    "numcolB = B.shape[1]"
   ]
  },
  {
   "cell_type": "markdown",
   "id": "8d79cfc2-9451-49aa-b337-c8160a501524",
   "metadata": {},
   "source": [
    "Accessing individual elements of our matrix.\n",
    "As an example, let us look at matrix A's element in first row and second column (counting starts at 0!)"
   ]
  },
  {
   "cell_type": "code",
   "execution_count": null,
   "id": "5f8d2666-dcac-47ae-b8b3-5d3284eb43bd",
   "metadata": {},
   "outputs": [],
   "source": [
    "print(A[0,1])"
   ]
  },
  {
   "cell_type": "markdown",
   "id": "f6e46f32-276b-43fa-affd-bbcb9b5e6d1b",
   "metadata": {},
   "source": [
    "## The exciting part: explicit matrix multiplication"
   ]
  },
  {
   "cell_type": "markdown",
   "id": "f2183973-d979-4aa8-a148-e0c0c30fa2db",
   "metadata": {},
   "source": [
    "In the code below, **replace XXX by the correct variables to make the code work** (XXX is a generic placeholder here, not the same variable for all XXX)"
   ]
  },
  {
   "cell_type": "code",
   "execution_count": null,
   "id": "1a8d555e",
   "metadata": {},
   "outputs": [],
   "source": [
    "# create an empty array (matrix) with the correct dimensions\n",
    "C = np.empty((numrowA, numcolB))\n",
    "\n",
    "# perform the matrix multiplication\n",
    "for i in range(numrowA):\n",
    "    for j in range(numcolB):\n",
    "        C[i, j] = 0\n",
    "        for k in range(numcolA):\n",
    "            C[i, j] = C[i, j] + A[XXX, XXX] * B[XXX, XXX]\n",
    "            \n",
    "# print result\n",
    "print(C)"
   ]
  },
  {
   "cell_type": "markdown",
   "id": "6f35dcf7-df49-4330-ae26-40013b512efa",
   "metadata": {},
   "source": [
    "**Submit a screenshot of this section as part of your homework**"
   ]
  },
  {
   "cell_type": "markdown",
   "id": "e7d19dd3-88e3-4e9d-8b1e-0a446970c5a1",
   "metadata": {},
   "source": [
    "## Comparing your solution with the built-in functionality"
   ]
  },
  {
   "cell_type": "code",
   "execution_count": null,
   "id": "0d7fc7dd",
   "metadata": {},
   "outputs": [],
   "source": [
    "# matrix multiplication using numpy\n",
    "print(A @ B)"
   ]
  },
  {
   "cell_type": "markdown",
   "id": "c05ffd67-ccbb-431d-ad88-5477ccd440a3",
   "metadata": {},
   "source": [
    "## Further reading for those interested"
   ]
  },
  {
   "cell_type": "markdown",
   "id": "c3d030a5-1873-4be6-b247-7026b563aeaf",
   "metadata": {},
   "source": [
    "https://mkang32.github.io/python/2020/08/30/numpy-matmul.html"
   ]
  }
 ],
 "metadata": {
  "kernelspec": {
   "display_name": "Python 3 (ipykernel)",
   "language": "python",
   "name": "python3"
  },
  "language_info": {
   "codemirror_mode": {
    "name": "ipython",
    "version": 3
   },
   "file_extension": ".py",
   "mimetype": "text/x-python",
   "name": "python",
   "nbconvert_exporter": "python",
   "pygments_lexer": "ipython3",
   "version": "3.10.4"
  }
 },
 "nbformat": 4,
 "nbformat_minor": 5
}
