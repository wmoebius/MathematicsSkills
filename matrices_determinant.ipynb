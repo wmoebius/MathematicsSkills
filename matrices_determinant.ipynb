{
 "cells": [
  {
   "cell_type": "markdown",
   "id": "b371ca2f-5da8-460c-b1bd-69e7a08068fd",
   "metadata": {},
   "source": [
    "# Computing determinant in Python using module numpy"
   ]
  },
  {
   "cell_type": "code",
   "execution_count": null,
   "id": "ced3d255",
   "metadata": {},
   "outputs": [],
   "source": [
    "# import required module\n",
    "import numpy as np"
   ]
  },
  {
   "cell_type": "code",
   "execution_count": null,
   "id": "507c7bce",
   "metadata": {},
   "outputs": [],
   "source": [
    "# a matrix\n",
    "A = np.array([[2, 9], [2, 7]])\n",
    "# print(A)"
   ]
  },
  {
   "cell_type": "code",
   "execution_count": null,
   "id": "f1c9bc9e-c6ff-4378-8560-36fe8ab100ac",
   "metadata": {},
   "outputs": [],
   "source": [
    "# computing the determinant using a built-in function\n",
    "print(np.linalg.det(A))"
   ]
  }
 ],
 "metadata": {
  "kernelspec": {
   "display_name": "Python 3 (ipykernel)",
   "language": "python",
   "name": "python3"
  },
  "language_info": {
   "codemirror_mode": {
    "name": "ipython",
    "version": 3
   },
   "file_extension": ".py",
   "mimetype": "text/x-python",
   "name": "python",
   "nbconvert_exporter": "python",
   "pygments_lexer": "ipython3",
   "version": "3.10.4"
  }
 },
 "nbformat": 4,
 "nbformat_minor": 5
}
